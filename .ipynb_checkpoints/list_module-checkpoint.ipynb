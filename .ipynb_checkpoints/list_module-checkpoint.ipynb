{
 "cells": [
  {
   "cell_type": "code",
   "execution_count": 3,
   "metadata": {},
   "outputs": [],
   "source": [
    "import pip"
   ]
  },
  {
   "cell_type": "code",
   "execution_count": 4,
   "metadata": {},
   "outputs": [
    {
     "data": {
      "text/plain": [
       "[wrapt 1.10.11 (c:\\python36\\lib\\site-packages),\n",
       " widgetsnbextension 3.0.8 (c:\\python36\\lib\\site-packages),\n",
       " Werkzeug 0.11.10 (c:\\python36\\lib\\site-packages),\n",
       " webencodings 0.5.1 (c:\\python36\\lib\\site-packages),\n",
       " wcwidth 0.1.7 (c:\\python36\\lib\\site-packages),\n",
       " typed-ast 1.1.0 (c:\\python36\\lib\\site-packages),\n",
       " traitlets 4.3.2 (c:\\python36\\lib\\site-packages),\n",
       " tornado 4.5.2 (c:\\python36\\lib\\site-packages),\n",
       " testpath 0.3.1 (c:\\python36\\lib\\site-packages),\n",
       " tabulate 0.8.2 (c:\\python36\\lib\\site-packages),\n",
       " six 1.11.0 (c:\\python36\\lib\\site-packages),\n",
       " simplegeneric 0.8.1 (c:\\python36\\lib\\site-packages),\n",
       " setuptools 28.8.0 (c:\\python36\\lib\\site-packages),\n",
       " rsa 3.4.2 (c:\\python36\\lib\\site-packages),\n",
       " retype 17.12.0 (c:\\python36\\lib\\site-packages),\n",
       " requests 2.11.1 (c:\\python36\\lib\\site-packages),\n",
       " requests-toolbelt 0.7.0 (c:\\python36\\lib\\site-packages),\n",
       " request 0.0.22 (c:\\python36\\lib\\site-packages),\n",
       " qtconsole 4.3.1 (c:\\python36\\lib\\site-packages),\n",
       " pyzmq 16.0.3 (c:\\python36\\lib\\site-packages),\n",
       " pytz 2017.2 (c:\\python36\\lib\\site-packages),\n",
       " python-jwt 2.0.1 (c:\\python36\\lib\\site-packages),\n",
       " python-dateutil 2.6.1 (c:\\python36\\lib\\site-packages),\n",
       " pythainlp 1.5.4.2 (c:\\python36\\lib\\site-packages),\n",
       " pytest 3.3.1 (c:\\python36\\lib\\site-packages),\n",
       " pyreadline 2.1 (c:\\python36\\lib\\site-packages),\n",
       " pyparsing 2.2.0 (c:\\python36\\lib\\site-packages),\n",
       " pymongo 3.5.1 (c:\\python36\\lib\\site-packages),\n",
       " pylint 1.8.1 (c:\\python36\\lib\\site-packages),\n",
       " Pygments 2.2.0 (c:\\python36\\lib\\site-packages),\n",
       " pyasn1 0.3.7 (c:\\python36\\lib\\site-packages),\n",
       " pyasn1-modules 0.1.4 (c:\\python36\\lib\\site-packages),\n",
       " py 1.5.2 (c:\\python36\\lib\\site-packages),\n",
       " protobuf 3.4.0 (c:\\python36\\lib\\site-packages),\n",
       " prompt-toolkit 1.0.15 (c:\\python36\\lib\\site-packages),\n",
       " pluggy 0.6.0 (c:\\python36\\lib\\site-packages),\n",
       " pip 9.0.1 (c:\\python36\\lib\\site-packages),\n",
       " pickleshare 0.7.4 (c:\\python36\\lib\\site-packages),\n",
       " parso 0.1.1 (c:\\python36\\lib\\site-packages),\n",
       " pandocfilters 1.4.2 (c:\\python36\\lib\\site-packages),\n",
       " oauth2client 3.0.0 (c:\\python36\\lib\\site-packages),\n",
       " numpy 1.13.3 (c:\\python36\\lib\\site-packages),\n",
       " notebook 5.2.2 (c:\\python36\\lib\\site-packages),\n",
       " nltk 3.2.5 (c:\\python36\\lib\\site-packages),\n",
       " nbformat 4.4.0 (c:\\python36\\lib\\site-packages),\n",
       " nbconvert 5.3.1 (c:\\python36\\lib\\site-packages),\n",
       " MonkeyType 17.12.2 (c:\\python36\\lib\\site-packages),\n",
       " mongoengine 0.10.6 (c:\\python36\\lib\\site-packages),\n",
       " mistune 0.8.3 (c:\\python36\\lib\\site-packages),\n",
       " mccabe 0.6.1 (c:\\python36\\lib\\site-packages),\n",
       " matplotlib 2.1.0 (c:\\python36\\lib\\site-packages),\n",
       " MarkupSafe 1.0 (c:\\python36\\lib\\site-packages),\n",
       " marisa-trie 0.7.4 (c:\\python36\\lib\\site-packages),\n",
       " lazy-object-proxy 1.3.1 (c:\\python36\\lib\\site-packages),\n",
       " jws 0.1.3 (c:\\python36\\lib\\site-packages),\n",
       " jupyter 1.0.0 (c:\\python36\\lib\\site-packages),\n",
       " jupyter-core 4.4.0 (c:\\python36\\lib\\site-packages),\n",
       " jupyter-console 5.2.0 (c:\\python36\\lib\\site-packages),\n",
       " jupyter-client 5.2.0 (c:\\python36\\lib\\site-packages),\n",
       " jsonschema 2.6.0 (c:\\python36\\lib\\site-packages),\n",
       " JSON-log-formatter 0.1.0 (c:\\python36\\lib\\site-packages),\n",
       " Jinja2 2.8 (c:\\python36\\lib\\site-packages),\n",
       " jedi 0.11.1 (c:\\python36\\lib\\site-packages),\n",
       " itsdangerous 0.24 (c:\\python36\\lib\\site-packages),\n",
       " isort 4.2.15 (c:\\python36\\lib\\site-packages),\n",
       " ipywidgets 7.0.5 (c:\\python36\\lib\\site-packages),\n",
       " ipython 6.2.1 (c:\\python36\\lib\\site-packages),\n",
       " ipython-genutils 0.2.0 (c:\\python36\\lib\\site-packages),\n",
       " ipykernel 4.7.0 (c:\\python36\\lib\\site-packages),\n",
       " ipaddress 1.0.16 (c:\\python36\\lib\\site-packages),\n",
       " httplib2 0.9.2 (c:\\python36\\lib\\site-packages),\n",
       " html5lib 1.0.1 (c:\\python36\\lib\\site-packages),\n",
       " html2text 2016.5.29 (c:\\python36\\lib\\site-packages),\n",
       " future 0.16.0 (c:\\python36\\lib\\site-packages),\n",
       " Flask 0.11.1 (c:\\python36\\lib\\site-packages),\n",
       " Flask-Cors 2.1.2 (c:\\python36\\lib\\site-packages),\n",
       " facebook-sdk 2.0.0 (c:\\python36\\lib\\site-packages),\n",
       " entrypoints 0.2.3 (c:\\python36\\lib\\site-packages),\n",
       " dill 0.2.7.1 (c:\\python36\\lib\\site-packages),\n",
       " decorator 4.1.2 (c:\\python36\\lib\\site-packages),\n",
       " cycler 0.10.0 (c:\\python36\\lib\\site-packages),\n",
       " colorama 0.3.9 (c:\\python36\\lib\\site-packages),\n",
       " click 6.7 (c:\\python36\\lib\\site-packages),\n",
       " bs4 0.0.1 (c:\\python36\\lib\\site-packages),\n",
       " bleach 2.1.2 (c:\\python36\\lib\\site-packages),\n",
       " beautifulsoup4 4.6.0 (c:\\python36\\lib\\site-packages),\n",
       " attrs 17.3.0 (c:\\python36\\lib\\site-packages),\n",
       " astroid 1.6.0 (c:\\python36\\lib\\site-packages)]"
      ]
     },
     "execution_count": 4,
     "metadata": {},
     "output_type": "execute_result"
    }
   ],
   "source": [
    "pip.get_installed_distributions()"
   ]
  },
  {
   "cell_type": "code",
   "execution_count": null,
   "metadata": {},
   "outputs": [],
   "source": []
  }
 ],
 "metadata": {
  "kernelspec": {
   "display_name": "Python 3",
   "language": "python",
   "name": "python3"
  },
  "language_info": {
   "codemirror_mode": {
    "name": "ipython",
    "version": 3
   },
   "file_extension": ".py",
   "mimetype": "text/x-python",
   "name": "python",
   "nbconvert_exporter": "python",
   "pygments_lexer": "ipython3",
   "version": "3.6.3"
  }
 },
 "nbformat": 4,
 "nbformat_minor": 2
}
