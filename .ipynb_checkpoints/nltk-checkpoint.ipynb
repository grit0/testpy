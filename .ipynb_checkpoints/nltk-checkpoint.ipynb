{
 "cells": [
  {
   "cell_type": "code",
   "execution_count": null,
   "metadata": {},
   "outputs": [],
   "source": [
    "from pythainlp.tokenize import word_tokenize\n",
    "word_tokenize(\"อยากกินข้าว\")"
   ]
  },
  {
   "cell_type": "code",
   "execution_count": null,
   "metadata": {},
   "outputs": [],
   "source": [
    "import requests\n",
    "r_pos = requests.get('https://raw.githubusercontent.com/PyThaiNLP/lexicon-thai/master/%E0%B8%82%E0%B9%89%E0%B8%AD%E0%B8%84%E0%B8%A7%E0%B8%B2%E0%B8%A1/pos.txt')\n",
    "r_neg = requests.get('https://raw.githubusercontent.com/PyThaiNLP/lexicon-thai/master/%E0%B8%82%E0%B9%89%E0%B8%AD%E0%B8%84%E0%B8%A7%E0%B8%B2%E0%B8%A1/neg.txt')\n",
    "listpos=r_pos.text.split()\n",
    "listneg=r_neg.text.split()"
   ]
  },
  {
   "cell_type": "code",
   "execution_count": null,
   "metadata": {},
   "outputs": [],
   "source": [
    "from nltk import NaiveBayesClassifier as nbc\n",
    "import codecs\n",
    "from itertools import chain\n",
    "pos1=['pos']*len(listpos)\n",
    "neg1=['neg']*len(listneg)\n",
    "training_data = list(zip(listpos,pos1)) + list(zip(listneg,neg1))\n",
    "training_data"
   ]
  },
  {
   "cell_type": "code",
   "execution_count": null,
   "metadata": {},
   "outputs": [],
   "source": [
    "vocabulary = set(chain(*[word_tokenize(i[0].lower()) for i in training_data]))\n",
    "vocabulary"
   ]
  },
  {
   "cell_type": "code",
   "execution_count": null,
   "metadata": {},
   "outputs": [],
   "source": [
    "feature_set = [({i:(i in word_tokenize(sentence.lower())) for i in vocabulary},tag) for sentence, tag in training_data]\n",
    "classifier = nbc.train(feature_set)\n",
    "classifier"
   ]
  },
  {
   "cell_type": "code",
   "execution_count": null,
   "metadata": {},
   "outputs": [],
   "source": [
    "while True:\n",
    "#   test_sentence = input('\\nข้อความ : ')\n",
    "    test_sentence=\"ดีจังเลย\"\n",
    "    featurized_test_sentence = {i:(i in word_tokenize(test_sentence.lower())) for i in vocabulary}\n",
    "    print(\"test_sent:\",test_sentence)\n",
    "    print(\"tag:\",classifier.classify(featurized_test_sentence))"
   ]
  },
  {
   "cell_type": "code",
   "execution_count": null,
   "metadata": {},
   "outputs": [],
   "source": [
    "test_sentence =\"ดีจัง\"\n",
    "featurized_test_sentence = {i:(i in word_tokenize(test_sentence.lower())) for i in vocabulary}\n",
    "print(\"test_sent:\",test_sentence)\n",
    "print(\"tag:\",classifier.classify(featurized_test_sentence))"
   ]
  }
 ],
 "metadata": {
  "kernelspec": {
   "display_name": "Python 3",
   "language": "python",
   "name": "python3"
  }
 },
 "nbformat": 4,
 "nbformat_minor": 2
}
