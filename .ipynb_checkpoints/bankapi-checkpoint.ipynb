{
 "cells": [
  {
   "cell_type": "code",
   "execution_count": 23,
   "metadata": {},
   "outputs": [],
   "source": [
    "import requests\n",
    "url ='https://iapi.bot.or.th/Stat/Stat-ReferenceRate/DAILY_REF_RATE_V1/'\n",
    "querystring = {'start_period': '2002-01-12', 'end_period': '2002-01-15'}\n",
    "headers = {'api-key': 'U9G1L457H6DCugT7VmBaEacbHV9RX0PySO05cYaGsm'}"
   ]
  },
  {
   "cell_type": "code",
   "execution_count": 24,
   "metadata": {},
   "outputs": [
    {
     "name": "stdout",
     "output_type": "stream",
     "text": [
      "{\"result\":{\"success\":\"true\",\"api\":\"Daily Weighted-average Interbank Exchange Rate - THB / USD\",\"timestamp\":\"2017-12-26 11:49:59\",\"data\":{\"data_header\":{\"report_name_eng\":\"Rates of Exchange of Commercial Banks in Bangkok Metropolis (2002-present)\",\"report_name_th\":\"อัตราแลกเปลี่ยนเฉลี่ยของธนาคารพาณิชย์ในกรุงเทพมหานคร (2545-ปัจจุบัน)\",\"report_uoq_name_eng\":\"(Unit : Baht / 1 Unit of Foreign Currency)\",\"report_uoq_name_th\":\"(หน่วย : บาท ต่อ 1 หน่วยเงินตราต่างประเทศ)\",\"report_source_of_data\":[{\"source_of_data_eng\":\"Bank of Thailand\",\"source_of_data_th\":\"ธนาคารแห่งประเทศไทย\"}],\"report_remark\":[],\"last_updated\":\"2017-12-25\"},\"data_detail\":[{\"period\":\"2002-01-15\",\"rate\":\"43.9200000\"},{\"period\":\"2002-01-14\",\"rate\":\"43.9230000\"}]}}}\n"
     ]
    }
   ],
   "source": [
    "response = requests.request('GET', url, headers=headers, params=querystring)\n",
    "print(response.text)"
   ]
  },
  {
   "cell_type": "code",
   "execution_count": 25,
   "metadata": {},
   "outputs": [
    {
     "name": "stdout",
     "output_type": "stream",
     "text": [
      "('{\"result\":{\"success\":\"true\",\"api\":\"Daily Weighted-average Interbank Exchange '\n",
      " 'Rate - THB / USD\",\"timestamp\":\"2017-12-26 '\n",
      " '11:49:59\",\"data\":{\"data_header\":{\"report_name_eng\":\"Rates of Exchange of '\n",
      " 'Commercial Banks in Bangkok Metropolis '\n",
      " '(2002-present)\",\"report_name_th\":\"อัตราแลกเปลี่ยนเฉลี่ยของธนาคารพาณิชย์ในกรุงเทพมหานคร '\n",
      " '(2545-ปัจจุบัน)\",\"report_uoq_name_eng\":\"(Unit : Baht / 1 Unit of Foreign '\n",
      " 'Currency)\",\"report_uoq_name_th\":\"(หน่วย : บาท ต่อ 1 '\n",
      " 'หน่วยเงินตราต่างประเทศ)\",\"report_source_of_data\":[{\"source_of_data_eng\":\"Bank '\n",
      " 'of '\n",
      " 'Thailand\",\"source_of_data_th\":\"ธนาคารแห่งประเทศไทย\"}],\"report_remark\":[],\"last_updated\":\"2017-12-25\"},\"data_detail\":[{\"period\":\"2002-01-15\",\"rate\":\"43.9200000\"},{\"period\":\"2002-01-14\",\"rate\":\"43.9230000\"}]}}}')\n"
     ]
    }
   ],
   "source": [
    "from pprint import *\n",
    "pprint(response.text)"
   ]
  },
  {
   "cell_type": "code",
   "execution_count": 26,
   "metadata": {},
   "outputs": [],
   "source": [
    "import pandas as pd\n",
    "j=pd.io.json.loads(response.text)"
   ]
  },
  {
   "cell_type": "code",
   "execution_count": 29,
   "metadata": {},
   "outputs": [
    {
     "name": "stdout",
     "output_type": "stream",
     "text": [
      "{'result': {'success': 'true', 'api': 'Daily Weighted-average Interbank Exchange Rate - THB / USD', 'timestamp': '2017-12-26 11:49:59', 'data': {'data_header': {'report_name_eng': 'Rates of Exchange of Commercial Banks in Bangkok Metropolis (2002-present)', 'report_name_th': 'อัตราแลกเปลี่ยนเฉลี่ยของธนาคารพาณิชย์ในกรุงเทพมหานคร (2545-ปัจจุบัน)', 'report_uoq_name_eng': '(Unit : Baht / 1 Unit of Foreign Currency)', 'report_uoq_name_th': '(หน่วย : บาท ต่อ 1 หน่วยเงินตราต่างประเทศ)', 'report_source_of_data': [{'source_of_data_eng': 'Bank of Thailand', 'source_of_data_th': 'ธนาคารแห่งประเทศไทย'}], 'report_remark': [], 'last_updated': '2017-12-25'}, 'data_detail': [{'period': '2002-01-15', 'rate': '43.9200000'}, {'period': '2002-01-14', 'rate': '43.9230000'}]}}}\n"
     ]
    }
   ],
   "source": [
    "print(j)"
   ]
  },
  {
   "cell_type": "code",
   "execution_count": 31,
   "metadata": {},
   "outputs": [
    {
     "data": {
      "text/plain": [
       "{'api': 'Daily Weighted-average Interbank Exchange Rate - THB / USD',\n",
       " 'data': {'data_detail': [{'period': '2002-01-15', 'rate': '43.9200000'},\n",
       "   {'period': '2002-01-14', 'rate': '43.9230000'}],\n",
       "  'data_header': {'last_updated': '2017-12-25',\n",
       "   'report_name_eng': 'Rates of Exchange of Commercial Banks in Bangkok Metropolis (2002-present)',\n",
       "   'report_name_th': 'อัตราแลกเปลี่ยนเฉลี่ยของธนาคารพาณิชย์ในกรุงเทพมหานคร (2545-ปัจจุบัน)',\n",
       "   'report_remark': [],\n",
       "   'report_source_of_data': [{'source_of_data_eng': 'Bank of Thailand',\n",
       "     'source_of_data_th': 'ธนาคารแห่งประเทศไทย'}],\n",
       "   'report_uoq_name_eng': '(Unit : Baht / 1 Unit of Foreign Currency)',\n",
       "   'report_uoq_name_th': '(หน่วย : บาท ต่อ 1 หน่วยเงินตราต่างประเทศ)'}},\n",
       " 'success': 'true',\n",
       " 'timestamp': '2017-12-26 11:49:59'}"
      ]
     },
     "execution_count": 31,
     "metadata": {},
     "output_type": "execute_result"
    }
   ],
   "source": [
    "j['result']"
   ]
  }
 ],
 "metadata": {
  "kernelspec": {
   "display_name": "Python 3",
   "language": "python",
   "name": "python3"
  },
  "language_info": {
   "codemirror_mode": {
    "name": "ipython",
    "version": 3
   },
   "file_extension": ".py",
   "mimetype": "text/x-python",
   "name": "python",
   "nbconvert_exporter": "python",
   "pygments_lexer": "ipython3",
   "version": "3.6.3"
  }
 },
 "nbformat": 4,
 "nbformat_minor": 2
}
