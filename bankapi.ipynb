{
 "cells": [
  {
   "cell_type": "code",
   "execution_count": 1,
   "metadata": {
    "collapsed": true
   },
   "outputs": [],
   "source": [
    "import requests\n",
    "url ='https://iapi.bot.or.th/Stat/Stat-ReferenceRate/DAILY_REF_RATE_V1/'\n",
    "querystring = {'start_period': '2002-01-12', 'end_period': '2002-01-15'}\n",
    "headers = {'api-key': 'U9G1L457H6DCugT7VmBaEacbHV9RX0PySO05cYaGsm'}"
   ]
  },
  {
   "cell_type": "code",
   "execution_count": 2,
   "metadata": {},
   "outputs": [
    {
     "data": {
      "text/plain": [
       "'{\"result\":{\"success\":\"true\",\"api\":\"Daily Weighted-average Interbank Exchange Rate - THB / USD\",\"timestamp\":\"2018-01-15 10:38:23\",\"data\":{\"data_header\":{\"report_name_eng\":\"Rates of Exchange of Commercial Banks in Bangkok Metropolis (2002-present)\",\"report_name_th\":\"อัตราแลกเปลี่ยนเฉลี่ยของธนาคารพาณิชย์ในกรุงเทพมหานคร (2545-ปัจจุบัน)\",\"report_uoq_name_eng\":\"(Unit : Baht / 1 Unit of Foreign Currency)\",\"report_uoq_name_th\":\"(หน่วย : บาท ต่อ 1 หน่วยเงินตราต่างประเทศ)\",\"report_source_of_data\":[{\"source_of_data_eng\":\"Bank of Thailand\",\"source_of_data_th\":\"ธนาคารแห่งประเทศไทย\"}],\"report_remark\":[],\"last_updated\":\"2018-01-12\"},\"data_detail\":[{\"period\":\"2002-01-15\",\"rate\":\"43.9200000\"},{\"period\":\"2002-01-14\",\"rate\":\"43.9230000\"}]}}}'"
      ]
     },
     "execution_count": 2,
     "metadata": {},
     "output_type": "execute_result"
    }
   ],
   "source": [
    "response = requests.request('GET', url, headers=headers, params=querystring)\n",
    "response.text"
   ]
  },
  {
   "cell_type": "code",
   "execution_count": 3,
   "metadata": {},
   "outputs": [
    {
     "name": "stdout",
     "output_type": "stream",
     "text": [
      "('{\"result\":{\"success\":\"true\",\"api\":\"Daily Weighted-average Interbank Exchange '\n",
      " 'Rate - THB / USD\",\"timestamp\":\"2018-01-15 '\n",
      " '10:38:23\",\"data\":{\"data_header\":{\"report_name_eng\":\"Rates of Exchange of '\n",
      " 'Commercial Banks in Bangkok Metropolis '\n",
      " '(2002-present)\",\"report_name_th\":\"อัตราแลกเปลี่ยนเฉลี่ยของธนาคารพาณิชย์ในกรุงเทพมหานคร '\n",
      " '(2545-ปัจจุบัน)\",\"report_uoq_name_eng\":\"(Unit : Baht / 1 Unit of Foreign '\n",
      " 'Currency)\",\"report_uoq_name_th\":\"(หน่วย : บาท ต่อ 1 '\n",
      " 'หน่วยเงินตราต่างประเทศ)\",\"report_source_of_data\":[{\"source_of_data_eng\":\"Bank '\n",
      " 'of '\n",
      " 'Thailand\",\"source_of_data_th\":\"ธนาคารแห่งประเทศไทย\"}],\"report_remark\":[],\"last_updated\":\"2018-01-12\"},\"data_detail\":[{\"period\":\"2002-01-15\",\"rate\":\"43.9200000\"},{\"period\":\"2002-01-14\",\"rate\":\"43.9230000\"}]}}}')\n"
     ]
    }
   ],
   "source": [
    "from pprint import *\n",
    "pprint(response.text)"
   ]
  },
  {
   "cell_type": "code",
   "execution_count": 4,
   "metadata": {},
   "outputs": [
    {
     "data": {
      "text/plain": [
       "{'result': {'api': 'Daily Weighted-average Interbank Exchange Rate - THB / USD',\n",
       "  'data': {'data_detail': [{'period': '2002-01-15', 'rate': '43.9200000'},\n",
       "    {'period': '2002-01-14', 'rate': '43.9230000'}],\n",
       "   'data_header': {'last_updated': '2018-01-12',\n",
       "    'report_name_eng': 'Rates of Exchange of Commercial Banks in Bangkok Metropolis (2002-present)',\n",
       "    'report_name_th': 'อัตราแลกเปลี่ยนเฉลี่ยของธนาคารพาณิชย์ในกรุงเทพมหานคร (2545-ปัจจุบัน)',\n",
       "    'report_remark': [],\n",
       "    'report_source_of_data': [{'source_of_data_eng': 'Bank of Thailand',\n",
       "      'source_of_data_th': 'ธนาคารแห่งประเทศไทย'}],\n",
       "    'report_uoq_name_eng': '(Unit : Baht / 1 Unit of Foreign Currency)',\n",
       "    'report_uoq_name_th': '(หน่วย : บาท ต่อ 1 หน่วยเงินตราต่างประเทศ)'}},\n",
       "  'success': 'true',\n",
       "  'timestamp': '2018-01-15 10:38:23'}}"
      ]
     },
     "execution_count": 4,
     "metadata": {},
     "output_type": "execute_result"
    }
   ],
   "source": [
    "import pandas as pd\n",
    "j=pd.io.json.loads(response.text)\n",
    "j"
   ]
  },
  {
   "cell_type": "code",
   "execution_count": null,
   "metadata": {
    "collapsed": true
   },
   "outputs": [],
   "source": []
  }
 ],
 "metadata": {
  "kernelspec": {
   "display_name": "Python 3",
   "language": "python",
   "name": "python3"
  },
  "language_info": {
   "codemirror_mode": {
    "name": "ipython",
    "version": 3
   },
   "file_extension": ".py",
   "mimetype": "text/x-python",
   "name": "python",
   "nbconvert_exporter": "python",
   "pygments_lexer": "ipython3",
   "version": "3.6.3"
  }
 },
 "nbformat": 4,
 "nbformat_minor": 2
}
