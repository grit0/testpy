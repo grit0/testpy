{
 "cells": [
  {
   "cell_type": "code",
   "execution_count": 8,
   "metadata": {
    "collapsed": true
   },
   "outputs": [],
   "source": [
    "from pythainlp.tokenize import word_tokenize"
   ]
  },
  {
   "cell_type": "code",
   "execution_count": 9,
   "metadata": {},
   "outputs": [
    {
     "name": "stdout",
     "output_type": "stream",
     "text": [
      "['ไอ', 'กิ', 'ตม', 'ึ', 'งก', 'ิ', 'น', 'ข้าวเหนียว', 'ยัง']\n"
     ]
    }
   ],
   "source": [
    "print(word_tokenize('ไอกิตมึงกินข้าวเหนียวยัง' ))"
   ]
  },
  {
   "cell_type": "code",
   "execution_count": 17,
   "metadata": {},
   "outputs": [
    {
     "name": "stdout",
     "output_type": "stream",
     "text": [
      "['กินข้าว', 'ยัง']\n"
     ]
    }
   ],
   "source": [
    "print(word_tokenize(\"กินข้าวยัง\"))"
   ]
  },
  {
   "cell_type": "code",
   "execution_count": 19,
   "metadata": {},
   "outputs": [
    {
     "name": "stdout",
     "output_type": "stream",
     "text": [
      "['ไป', 'ไหน', 'มา', 'ว่ะ']\n"
     ]
    }
   ],
   "source": [
    "print(word_tokenize(\"ไปไหนมาว่ะ\"))"
   ]
  },
  {
   "cell_type": "code",
   "execution_count": 23,
   "metadata": {},
   "outputs": [
    {
     "name": "stdout",
     "output_type": "stream",
     "text": [
      "['กิน', 'คะน้า', 'หมู', 'กรอบ', 'ป่าว']\n"
     ]
    }
   ],
   "source": [
    "print(word_tokenize(\"กินคะน้าหมูกรอบป่าว\"))"
   ]
  },
  {
   "cell_type": "code",
   "execution_count": 10,
   "metadata": {},
   "outputs": [
    {
     "name": "stdout",
     "output_type": "stream",
     "text": [
      "['สวัสดี', 'ะ', 'น้า']\n"
     ]
    }
   ],
   "source": [
    "print(word_tokenize(\"สวัสดีะน้า\"))"
   ]
  },
  {
   "cell_type": "code",
   "execution_count": 6,
   "metadata": {
    "collapsed": true
   },
   "outputs": [],
   "source": []
  },
  {
   "cell_type": "code",
   "execution_count": null,
   "metadata": {
    "collapsed": true
   },
   "outputs": [],
   "source": []
  }
 ],
 "metadata": {
  "kernelspec": {
   "display_name": "Python 3",
   "language": "python",
   "name": "python3"
  },
  "language_info": {
   "codemirror_mode": {
    "name": "ipython",
    "version": 3
   },
   "file_extension": ".py",
   "mimetype": "text/x-python",
   "name": "python",
   "nbconvert_exporter": "python",
   "pygments_lexer": "ipython3",
   "version": "3.6.3"
  }
 },
 "nbformat": 4,
 "nbformat_minor": 2
}
